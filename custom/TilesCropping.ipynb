{
 "cells": [
  {
   "cell_type": "code",
   "execution_count": 1,
   "metadata": {
    "collapsed": true
   },
   "outputs": [],
   "source": [
    "import cv2\n",
    "import math\n",
    "import os\n",
    "import decimal\n",
    "import random"
   ]
  },
  {
   "cell_type": "markdown",
   "metadata": {},
   "source": [
    "# CREATE TILES"
   ]
  },
  {
   "cell_type": "code",
   "execution_count": 2,
   "metadata": {
    "collapsed": true
   },
   "outputs": [],
   "source": [
    "dirname = './Images'\n",
    "dirLabel = './Annotations'\n",
    "files = [f[:-4] for f in os.listdir(dirname) if f[-4:].lower() == '.jpg'] # getting a list of all imageNames in folder\n"
   ]
  },
  {
   "cell_type": "code",
   "execution_count": null,
   "metadata": {
    "collapsed": true
   },
   "outputs": [],
   "source": [
    "filepath = '%s/%s.txt'%(dirLabel, 'COCO_train2018_dji_0289')\n",
    "imgpath = '%s/%s.jpg'%(dirname, 'COCO_train2018_dji_0289')\n"
   ]
  },
  {
   "cell_type": "markdown",
   "metadata": {},
   "source": [
    "<b>Annotation format</b>: class x_center y_center width height \n",
    "\n",
    "Box coordinates are normalized xywh format (from 0 - 1).\n"
   ]
  },
  {
   "cell_type": "markdown",
   "metadata": {
    "collapsed": true
   },
   "source": [
    "## SPLIT ANNOTATIONS\n",
    "In each annotation file:\n",
    "<ul>\n",
    "    <li>New annotations are created by splitting annotations that are in more than one tile</li>\n",
    "\n",
    "   <li>New annotations are saved in \"./Cropped/Annotations\"</li>\n",
    "</ul>\n",
    "\n"
   ]
  },
  {
   "cell_type": "markdown",
   "metadata": {},
   "source": [
    "\n",
    "#### HOW TO USE:\n",
    "fp = 'path/to/annotations'\n",
    "\n",
    "<i>createNewAnnotations(fp, type)</i>"
   ]
  },
  {
   "cell_type": "markdown",
   "metadata": {},
   "source": [
    "### getTiles\n",
    "\n",
    "<b>input</b>: coords: [minValue, maxValue]\n",
    "\n",
    "<b>output</b>: Array of tiles annotation occures  ex:[1,2,3]"
   ]
  },
  {
   "cell_type": "code",
   "execution_count": null,
   "metadata": {
    "collapsed": true
   },
   "outputs": [],
   "source": [
    "def getTiles(coords):\n",
    "    tiles = []\n",
    "    for no in coords:\n",
    "        if(0 <= no < 0.2 ):\n",
    "            tiles.append(0)\n",
    "        if(0.2 <= no < 0.4 ):\n",
    "            tiles.append(1)\n",
    "        if(0.4 <= no < 0.6 ):\n",
    "            tiles.append(2)\n",
    "        if(0.6 <= no < 0.8 ):\n",
    "            tiles.append(3)\n",
    "        if(0.8 <= no <= 1):\n",
    "            tiles.append(4)\n",
    "    #print('tiles: %s'%(tiles))\n",
    "    return(range(tiles[0], tiles[1]+1))\n"
   ]
  },
  {
   "cell_type": "markdown",
   "metadata": {
    "collapsed": true
   },
   "source": [
    "### splitAnnotation\n",
    "Splitting and saving annotations according to tiles\n",
    "\n",
    "<b>Annotation format</b>: class x_center y_center width height\n",
    "\n",
    "<b>input</b>: \n",
    "<ul>\n",
    "    <li>annotation: [class, xCenter, yCenter, width, height]</li>\n",
    "    <li>filename: original name</li>\n",
    "    <li>type: 'val'/'train'</li>\n",
    "</ul>\n",
    "<b>output</b>: void - Annotations are added to <i>Cropped/data/labels/'type'</i>"
   ]
  },
  {
   "cell_type": "code",
   "execution_count": 1,
   "metadata": {
    "collapsed": true
   },
   "outputs": [],
   "source": [
    "def splitAnnotation(annotation, filename, typ):\n",
    "    clas, xcenter, ycenter, width, height = annotation\n",
    "    xmin = float(xcenter) - (0.5*float(width))\n",
    "    xmax = float(xmin) + (float(width))\n",
    "    ymin = float(ycenter) - (0.5*float(height))\n",
    "    ymax = float(ymin) + (float(height))\n",
    "    if(ymax>1):\n",
    "        ymax =1\n",
    "    if(xmax>1):\n",
    "        xmax =1    \n",
    "    \n",
    "    file = open('Cropped/data/labels/%s/%s'%(typ, filename), 'a+')\n",
    "    \n",
    "    xs = getTiles([xmin, xmax]) #Tiles annotation covers in x-direction\n",
    "    ys = getTiles([ymin, ymax]) #Tiles annotation covers in y-direction\n",
    "    \n",
    "    \n",
    "    for x in xs:\n",
    "        for y in ys:\n",
    "            #Bbox tile:\n",
    "            txmin = x*0.2\n",
    "            txmax = txmin+0.2\n",
    "            tymin = y*0.2\n",
    "            tymax = tymin+0.2\n",
    "            \n",
    "            #Bbox annotation in tile\n",
    "            nxmin = txmin\n",
    "            nxmax = txmax\n",
    "            nymin = tymin\n",
    "            nymax = tymax\n",
    "            \n",
    "            if(txmin <= xmin <txmax):\n",
    "                nxmin = xmin\n",
    "            if(txmin <= xmax <txmax):\n",
    "                nxmax = xmax\n",
    "            if(tymin <= ymin <tymax):\n",
    "                nymin = ymin\n",
    "            if(tymin <= ymax <tymax):\n",
    "                nymax = ymax\n",
    "            \n",
    "            #new annotaion - only 6 decimals\n",
    "            xcenter = decimal.Decimal((nxmax+nxmin)/2)\n",
    "            ycenter = decimal.Decimal((nymax+nymin)/2)\n",
    "            width = decimal.Decimal(nxmax-nxmin)\n",
    "            height = decimal.Decimal(nymax-nymin)\n",
    "            newA = '%s %s %s %s %s'%(clas, round(xcenter,6), round(ycenter,6), round(width,6), round(height,6) )\n",
    "            file.write(newA)\n",
    "            file.write('\\n')            \n",
    "    file.close()"
   ]
  },
  {
   "cell_type": "markdown",
   "metadata": {},
   "source": [
    "### deleteAnnotations\n",
    "<b>input</b>: folderpath\n",
    "\n",
    "<b>output</b>: void - all files in directory removed"
   ]
  },
  {
   "cell_type": "code",
   "execution_count": null,
   "metadata": {
    "collapsed": true
   },
   "outputs": [],
   "source": [
    "def deleteAnnotations(folder):\n",
    "    for the_file in os.listdir(folder):\n",
    "        file_path = os.path.join(folder, the_file)\n",
    "        try:\n",
    "            if os.path.isfile(file_path):\n",
    "                os.unlink(file_path)\n",
    "            #elif os.path.isdir(file_path): shutil.rmtree(file_path)\n",
    "        except Exception as e:\n",
    "            print(e)"
   ]
  },
  {
   "cell_type": "markdown",
   "metadata": {},
   "source": [
    "### editAnnotation\n",
    "<b>input</b>: \n",
    "<ul>\n",
    "    <li>filepath: path/to/file</li>\n",
    "    <li>filename: original name</li>\n",
    "    <li>type: 'val'/'train'</li>\n",
    "</ul>\n",
    "\n",
    "<b>output</b>: void - runs splitAnnotation on all lines in file"
   ]
  },
  {
   "cell_type": "code",
   "execution_count": null,
   "metadata": {
    "collapsed": true
   },
   "outputs": [],
   "source": [
    "def editAnnotation(filepath, filename, typ):\n",
    "    with open(filepath) as fp:  \n",
    "        line = fp.readline()\n",
    "        \n",
    "        cnt = 1\n",
    "        while line:\n",
    "            ord = line.split()\n",
    "            splitAnnotation(ord, filename, typ)\n",
    "            line = fp.readline()\n",
    "            cnt += 1"
   ]
  },
  {
   "cell_type": "markdown",
   "metadata": {},
   "source": [
    "### createNewAnnotations\n",
    "loops through all files in directory and runs editAnnotation"
   ]
  },
  {
   "cell_type": "code",
   "execution_count": null,
   "metadata": {
    "collapsed": true
   },
   "outputs": [],
   "source": [
    "def createNewAnnotations(dirname, typ):\n",
    "    #deleteAnnotations('./Cropped/annotations')\n",
    "    files = [f[:] for f in os.listdir('%s/%s/'%(dirname,typ)) if f[-4:].lower() == '.txt']\n",
    "    for f in files:\n",
    "        editAnnotation('%s/%s/%s'%(dirname,typ,f), f, typ)\n",
    "    print('New annotations are created')"
   ]
  },
  {
   "cell_type": "markdown",
   "metadata": {},
   "source": [
    "fp = './data2/labels'\n",
    "\n",
    "createNewAnnotations(fp, 'val')"
   ]
  },
  {
   "cell_type": "markdown",
   "metadata": {},
   "source": [
    "## CREATE TILES\n",
    "<img src=\"img/tiles2.png\" style=\"height: 250px; float: left; padding-right: 10px;\"/>\n",
    "\n",
    "Crop image to 5x5 tiles\n",
    "\n",
    "Original image size: 4000 x 2250\n",
    "\n",
    "Tile size: 800 x 450\n",
    "\n",
    "Saving new tiles: \"tile_i_j\" in folder croppedImages\n"
   ]
  },
  {
   "cell_type": "markdown",
   "metadata": {},
   "source": [
    "[0,0]: upper left corner \n",
    "\n",
    "img_shape: [height, width]"
   ]
  },
  {
   "cell_type": "markdown",
   "metadata": {},
   "source": [
    "#### SPLITTING TILES AND SAVING ANNOTATIONS\n",
    "### getAnnotations\n",
    "<b>input</b>: \n",
    "<ul>\n",
    "    <li>xmin</li>\n",
    "    <li>xmax</li>\n",
    "    <li>ymin</li>\n",
    "    <li>ymax</li>\n",
    "    <li>labelpath: path/to/label</li>\n",
    "</ul>\n",
    "\n",
    "<b>output</b>:Array of annotations in boundingbox"
   ]
  },
  {
   "cell_type": "code",
   "execution_count": null,
   "metadata": {
    "collapsed": true
   },
   "outputs": [],
   "source": [
    "def getAnnotations(xmin, xmax, ymin, ymax, labelpath):\n",
    "    annotations = []\n",
    "    with open(labelpath, 'r') as fp:  \n",
    "        line = fp.readline()\n",
    "        cnt = 1\n",
    "        while line:\n",
    "            clas, xcenter, ycenter, width, height = line.split()\n",
    "            \n",
    "            if((float(xmin) < float(xcenter) < float(xmax)) and (float(ymin) < float(ycenter) < float(ymax))):\n",
    "                newx = (float(xcenter)-float(xmin))/0.2\n",
    "                newy = (float(ycenter)-float(ymin))/0.2\n",
    "                newWidth = float(width)/0.2\n",
    "                newHeight = float(height)/0.2 \n",
    "                newAnnotation = '%s %s %s %s %s'%(clas, newx, newy, newWidth, newHeight)\n",
    "                annotations.append(newAnnotation)\n",
    "            line = fp.readline()\n",
    "            cnt += 1\n",
    "    return annotations"
   ]
  },
  {
   "cell_type": "markdown",
   "metadata": {},
   "source": [
    "### cropImg\n",
    "<b>input</b>: \n",
    "<ul>\n",
    "    <li>imgPath: path/to/img</li>\n",
    "    <li>labelPath: path/to/label</li>\n",
    "    <li>filename: original name</li>\n",
    "    <li>type: 'val'/'train'</li>\n",
    "</ul>\n",
    "\n",
    "<b>output</b>: void - Tiling image to 25 new images. If annotation exsists in tile, tile and annotation is saved\n"
   ]
  },
  {
   "cell_type": "code",
   "execution_count": null,
   "metadata": {
    "collapsed": true
   },
   "outputs": [],
   "source": [
    "def cropImg(imgpath, labelpath, filename, type):\n",
    "    img = cv2.imread(imgpath) # 4000  ×  2250   600 x 337.5\n",
    "    \n",
    "    img_shape = img.shape\n",
    "    tile_size =  (int(img_shape[1]*0.2), int(img_shape[0]*0.2)) # 800 x 450\n",
    "    offset = (int(img_shape[1]*0.2), int(img_shape[0]*0.2))\n",
    "\n",
    "    for i in range(int(math.ceil(img_shape[0]/(offset[1] * 1.0)))):\n",
    "        for j in range(int(math.ceil(img_shape[1]/(offset[0] * 1.0)))):\n",
    "            xmin = offset[1]*i\n",
    "            xmaks = min(offset[1]*i+tile_size[1], img_shape[0])\n",
    "            ymin = offset[0]*j\n",
    "            ymaks = min(offset[0]*j+tile_size[0], img_shape[1])\n",
    "            \n",
    "            jmin = 0.2*j\n",
    "            jmax = jmin + 0.2\n",
    "            imin = 0.2*i\n",
    "            imax = imin + 0.2 \n",
    "            \n",
    "            annotations = getAnnotations( jmin, jmax, imin, imax, labelpath)\n",
    "            if(len(annotations)!=0):\n",
    "                cropped_img = img[xmin:xmaks, ymin:ymaks]\n",
    "                cv2.imwrite('./Cropped/data/images/%s/%s_tile_%s_%s.jpg'%(type, filename, str(i), str(j)), cropped_img)\n",
    "                file = open('Cropped/data/labels/%s/%s_tile_%s_%s.txt'%(type, filename, str(i), str(j)), 'a+')\n",
    "                for line in annotations:\n",
    "                    file.write(line)\n",
    "                    file.write('\\n')  \n",
    "                file.close()\n",
    "    print('Annotations and Images tiled')\n",
    "           "
   ]
  },
  {
   "cell_type": "markdown",
   "metadata": {},
   "source": [
    "### splitImagesAndReformatLabels\n",
    "<b>input</b>: \n",
    "<ul>\n",
    "    <li>files: array of filenames</li>\n",
    "    <li>type: 'val'/'train'</li>\n",
    "</ul>\n",
    "\n",
    "<b>output</b>: void - runs cropImg on all inputfiles\n"
   ]
  },
  {
   "cell_type": "code",
   "execution_count": null,
   "metadata": {
    "collapsed": true
   },
   "outputs": [],
   "source": [
    "def splitImagesAndReformatLabels(files, type):\n",
    "    dirimages = './Images'\n",
    "    dirannotations = './Cropped/annotations'\n",
    "    \n",
    "    for file in files: \n",
    "        imagepath = '%s/%s.jpg'%(dirimages,file) \n",
    "        labelpath = '%s/%s.txt'%(dirannotations,file)\n",
    "        cropImg(imagepath, labelpath, file, type)\n",
    "    "
   ]
  },
  {
   "cell_type": "markdown",
   "metadata": {},
   "source": [
    "#### HOW TO USE\n",
    "<ul>\n",
    "    <li>Delete folders in data/annotations and data/images </li>\n",
    "    <li>splitImagesAndReformatLabels(files, type)</li>\n",
    "</ul>\n"
   ]
  },
  {
   "cell_type": "raw",
   "metadata": {},
   "source": [
    "dirImages = './Images'\n",
    "files = [f[:-4] for f in os.listdir(dirImages) if f[-4:].lower() == '.jpg'] # getting a list of all imageNames in folder\n",
    "\n",
    "# random divide  \n",
    "trainval = random.sample(files, int(0.9*len(files)))\n",
    "test = [f for f in files if f not in trainval]\n",
    "\n",
    "# random divide \n",
    "train = random.sample(trainval, int(0.9*len(trainval)))\n",
    "val = [f for f in trainval if f not in train]\n"
   ]
  },
  {
   "cell_type": "markdown",
   "metadata": {},
   "source": [
    "splitImagesAndReformatLabels(val, 'val2')"
   ]
  },
  {
   "cell_type": "markdown",
   "metadata": {},
   "source": [
    "## OTHER USEFUL FUNCTIONS"
   ]
  },
  {
   "cell_type": "markdown",
   "metadata": {},
   "source": [
    "#### COPY REP\n",
    "Copies the whole \"custom\" directory to a new directory called \"data2\""
   ]
  },
  {
   "cell_type": "code",
   "execution_count": null,
   "metadata": {
    "collapsed": true
   },
   "outputs": [],
   "source": [
    "def copyRep(type):\n",
    "    dirImages = '/home/nina/custom/images/%s2018'%(type)\n",
    "    dirLabels = '/home/nina/custom/labels/%s2018'%(type)\n",
    "    files = [f[:-4] for f in os.listdir(dirImages) if f[-4:].lower() == '.jpg']\n",
    "    print(len(files))\n",
    "    import shutil\n",
    "    wd = os.getcwd()\n",
    "    for f in files:\n",
    "        shutil.copy(('%s/%s.jpg'%(dirImages, f)), ('%s/data2/images/%s'%(wd, type)))\n",
    "        shutil.copy(('%s/%s.txt'%(dirLabels, f)), ('%s/data2/labels/%s'%(wd, type)))        "
   ]
  },
  {
   "cell_type": "markdown",
   "metadata": {},
   "source": [
    "copyRep('train')"
   ]
  },
  {
   "cell_type": "markdown",
   "metadata": {},
   "source": [
    "#### CREATELOCATIONFILE\n",
    "creating a locationFile that is later going to be placed in /yolov3/data"
   ]
  },
  {
   "cell_type": "code",
   "execution_count": null,
   "metadata": {
    "collapsed": true
   },
   "outputs": [],
   "source": [
    "def createLocationFile(type, files):\n",
    "    list_file = open('%sLocations.txt'%(type), 'w')\n",
    "    for f in files:\n",
    "        list_file.write('../dataset/custom/Cropped/data/images/%s/%s.jpg'%(type, f))\n",
    "        list_file.write('\\n')\n"
   ]
  },
  {
   "cell_type": "markdown",
   "metadata": {
    "collapsed": true
   },
   "source": [
    "dirImages = './Cropped/data/images/%s'%('val')\n",
    "\n",
    "files = [f[:-4] for f in os.listdir(dirImages) if f[-4:].lower() == '.jpg'] # getting a list of all imageNames in folder\n",
    "createLocationFile('val',files)\n",
    "\n"
   ]
  },
  {
   "cell_type": "markdown",
   "metadata": {},
   "source": [
    "### INTERSECTION\n",
    "<img src=\"img/image.png\" style=\"height: 250px; float: left\"/>\n",
    "#### INPUT : \n",
    "rec1: bottom-left(0, 0), top-right(10, 8),\n",
    "\n",
    "rec2: bottom-left(2, 3), top-right(7, 9)\n",
    "#### OUTPUT: \n",
    "(2, 3) (7, 8) (2, 8) (7, 3)\n",
    "\n",
    "https://www.geeksforgeeks.org/intersecting-rectangle-when-bottom-left-and-top-right-corners-of-two-rectangles-are-given/ \n"
   ]
  },
  {
   "cell_type": "code",
   "execution_count": null,
   "metadata": {
    "collapsed": true
   },
   "outputs": [],
   "source": [
    "def FindPoints(x1, y1, x2, y2, x3, y3, x4, y4, imgName): \n",
    "    \n",
    "    # gives bottom-left point \n",
    "    # of intersection rectangle \n",
    "    x5 = max(x1, x3) \n",
    "    y5 = max(y1, y3) \n",
    "  \n",
    "    # gives top-right point \n",
    "    # of intersection rectangle \n",
    "    x6 = min(x2, x4) \n",
    "    y6 = min(y2, y4) \n",
    "  \n",
    "    # no intersection \n",
    "    if (x5 > x6 or y5 > y6) : \n",
    "        #print(\"NO INTERSECTION\")\n",
    "        return\n",
    "        \n",
    "    #New annotation\n",
    "    width = max(x5,x6)-min(x5,x6)\n",
    "    height = max(y5,y6)-min(y5,y6)\n",
    "    x_center = min(x5,x6) + 0.5*width\n",
    "    y_center = min(y5,y6) + 0.5*height\n",
    "    new_annotation = 'Annotation: %s %s %s %s'%(x_center, y_center, width, height)\n",
    "    print(new_annotation)\n",
    "    \n",
    "    "
   ]
  },
  {
   "cell_type": "code",
   "execution_count": null,
   "metadata": {
    "collapsed": true
   },
   "outputs": [],
   "source": []
  }
 ],
 "metadata": {
  "kernelspec": {
   "display_name": "Python (pytorchenv)",
   "language": "python",
   "name": "pytorchenv"
  },
  "language_info": {
   "codemirror_mode": {
    "name": "ipython",
    "version": 3
   },
   "file_extension": ".py",
   "mimetype": "text/x-python",
   "name": "python",
   "nbconvert_exporter": "python",
   "pygments_lexer": "ipython3",
   "version": "3.7.3"
  }
 },
 "nbformat": 4,
 "nbformat_minor": 2
}
