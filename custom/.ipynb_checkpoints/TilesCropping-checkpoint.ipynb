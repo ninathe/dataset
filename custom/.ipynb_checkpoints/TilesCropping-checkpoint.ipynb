{
 "cells": [
  {
   "cell_type": "code",
   "execution_count": 4,
   "metadata": {
    "collapsed": true
   },
   "outputs": [],
   "source": [
    "import cv2\n",
    "import math\n",
    "import os\n",
    "import decimal"
   ]
  },
  {
   "cell_type": "markdown",
   "metadata": {},
   "source": [
    "# CREATE TILES"
   ]
  },
  {
   "cell_type": "code",
   "execution_count": null,
   "metadata": {
    "collapsed": true
   },
   "outputs": [],
   "source": [
    "dirname = './Images'\n",
    "dirLabel = './Annotations'\n",
    "files = [f[:-4] for f in os.listdir(dirname) if f[-4:].lower() == '.jpg'] # getting a list of all imageNames in folder\n"
   ]
  },
  {
   "cell_type": "code",
   "execution_count": null,
   "metadata": {},
   "outputs": [],
   "source": [
    "filepath = '%s/%s.txt'%(dirLabel, 'COCO_train2018_dji_0289')\n",
    "imgpath = '%s/%s.jpg'%(dirname, 'COCO_train2018_dji_0289')\n",
    "\n",
    "print(imgpath)"
   ]
  },
  {
   "cell_type": "markdown",
   "metadata": {},
   "source": [
    "<b>Annotation format</b>: class x_center y_center width height \n",
    "\n",
    "Box coordinates are normalized xywh format (from 0 - 1).\n"
   ]
  },
  {
   "cell_type": "markdown",
   "metadata": {
    "collapsed": true
   },
   "source": [
    "### SPLIT ANNOTATIONS\n",
    "In each annotation file:\n",
    "<ul>\n",
    "    <li>New annotations are created by splitting annotations that are in more than one tile</li>\n",
    "\n",
    "    <li>New annotations are saved in \"./Cropped/Annotations\"</li>\n",
    "</ul>"
   ]
  },
  {
   "cell_type": "markdown",
   "metadata": {},
   "source": [
    "#### Getting tiles where annotation occures\n",
    "\n",
    "<b>input</b>: coords: [minValue, maxValue]\n",
    "\n",
    "<b>output</b>: Array of tiles annotation occures  ex:[1,2,3]"
   ]
  },
  {
   "cell_type": "code",
   "execution_count": null,
   "metadata": {
    "collapsed": true
   },
   "outputs": [],
   "source": [
    "def getTiles(coords):\n",
    "    tiles = []\n",
    "    for no in coords:\n",
    "        if(0 <= no < 0.2 ):\n",
    "            tiles.append(0)\n",
    "        if(0.2 <= no < 0.4 ):\n",
    "            tiles.append(1)\n",
    "        if(0.4 <= no < 0.6 ):\n",
    "            tiles.append(2)\n",
    "        if(0.6 <= no < 0.8 ):\n",
    "            tiles.append(3)\n",
    "        if(0.8 <= no <= 1):\n",
    "            tiles.append(4)\n",
    "    #print('tiles: %s'%(tiles))\n",
    "    return(range(tiles[0], tiles[1]+1))\n"
   ]
  },
  {
   "cell_type": "markdown",
   "metadata": {},
   "source": [
    "#### CREATING NEW ANNOTATIONS"
   ]
  },
  {
   "cell_type": "markdown",
   "metadata": {
    "collapsed": true
   },
   "source": [
    "Splitting and saving annotations according to tiles\n",
    "\n",
    "<b>Annotation format</b>: class x_center y_center width height\n",
    "\n",
    "6 decimals"
   ]
  },
  {
   "cell_type": "code",
   "execution_count": null,
   "metadata": {
    "collapsed": true
   },
   "outputs": [],
   "source": [
    "def splitAnnotation(annotation, filename):\n",
    "    clas, xcenter, ycenter, width, height = annotation\n",
    "    xmin = float(xcenter) - (0.5*float(width))\n",
    "    xmax = float(xmin) + (float(width))\n",
    "    ymin = float(ycenter) - (0.5*float(height))\n",
    "    ymax = float(ymin) + (float(height))\n",
    "    if(ymax>1):\n",
    "        ymax =1\n",
    "    if(xmax>1):\n",
    "        xmax =1    \n",
    "    \n",
    "    file = open('Cropped/Annotations/%s'%(filename), 'a+')\n",
    "    \n",
    "    xs = getTiles([xmin, xmax])\n",
    "    ys = getTiles([ymin, ymax])\n",
    "    \n",
    "    \n",
    "    for x in xs:\n",
    "        for y in ys:\n",
    "            #Bbox tile:\n",
    "            txmin = x*0.2\n",
    "            txmax = txmin+0.2\n",
    "            tymin = y*0.2\n",
    "            tymax = tymin+0.2\n",
    "            \n",
    "            #Bbox annotation in tile\n",
    "            nxmin = txmin\n",
    "            nxmax = txmax\n",
    "            nymin = tymin\n",
    "            nymax = tymax\n",
    "            \n",
    "            if(txmin <= xmin <txmax):\n",
    "                nxmin = xmin\n",
    "            if(txmin <= xmax <txmax):\n",
    "                nxmax = xmax\n",
    "            if(tymin <= ymin <tymax):\n",
    "                nymin = ymin\n",
    "            if(tymin <= ymax <tymax):\n",
    "                nymax = ymax\n",
    "            \n",
    "            #new annotaion\n",
    "            xcenter = decimal.Decimal((nxmax+nxmin)/2)\n",
    "            ycenter = decimal.Decimal((nymax+nymin)/2)\n",
    "            width = decimal.Decimal(nxmax-nxmin)\n",
    "            height = decimal.Decimal(nymax-nymin)\n",
    "            newA = '%s %s %s %s %s'%(clas, round(xcenter,6), round(ycenter,6), round(width,6), round(height,6) )\n",
    "            file.write(newA)\n",
    "            file.write('\\n')            \n",
    "    file.close()"
   ]
  },
  {
   "cell_type": "code",
   "execution_count": null,
   "metadata": {
    "collapsed": true
   },
   "outputs": [],
   "source": [
    "def createNewAnnotations(dirname):\n",
    "    deleteAnnotations('./Cropped/Annotations')\n",
    "    files = [f[:] for f in os.listdir(dirname) if f[-4:].lower() == '.txt']\n",
    "    for f in files:\n",
    "        editAnnotation('%s/%s'%(dirname,f), f)\n",
    "    print('New annotations are created')"
   ]
  },
  {
   "cell_type": "code",
   "execution_count": null,
   "metadata": {
    "collapsed": true
   },
   "outputs": [],
   "source": [
    "def deleteAnnotations(folder):\n",
    "    for the_file in os.listdir(folder):\n",
    "        file_path = os.path.join(folder, the_file)\n",
    "        try:\n",
    "            if os.path.isfile(file_path):\n",
    "                os.unlink(file_path)\n",
    "            #elif os.path.isdir(file_path): shutil.rmtree(file_path)\n",
    "        except Exception as e:\n",
    "            print(e)"
   ]
  },
  {
   "cell_type": "code",
   "execution_count": null,
   "metadata": {
    "collapsed": true
   },
   "outputs": [],
   "source": [
    "def editAnnotation(filepath, filename):\n",
    "    with open(filepath) as fp:  \n",
    "        line = fp.readline()\n",
    "        \n",
    "        cnt = 1\n",
    "        while line:\n",
    "            ord = line.split()\n",
    "            splitAnnotation(ord, filename)\n",
    "            line = fp.readline()\n",
    "            cnt += 1"
   ]
  },
  {
   "cell_type": "code",
   "execution_count": null,
   "metadata": {
    "collapsed": true
   },
   "outputs": [],
   "source": []
  },
  {
   "cell_type": "markdown",
   "metadata": {},
   "source": [
    "#### CreateAnnotations:\n",
    "fp = 'path/to/annotations'\n",
    "\n",
    "<i>createNewAnnotations(fp)</i>"
   ]
  },
  {
   "cell_type": "markdown",
   "metadata": {},
   "source": [
    "### CREATING TILES\n",
    "<img src=\"img/tiles2.png\" style=\"height: 250px; float: left; padding-right: 10px;\"/>\n",
    "\n",
    "Crop image to 5x5 tiles\n",
    "\n",
    "Original image size: 4000 x 2250\n",
    "\n",
    "Tile size: 800 x 450\n",
    "\n",
    "Saving new tiles: \"tile_i_j\" in folder croppedImages\n"
   ]
  },
  {
   "cell_type": "markdown",
   "metadata": {},
   "source": [
    "[0,0]: upper left corner \n",
    "\n",
    "img_shape: [height, width]"
   ]
  },
  {
   "cell_type": "markdown",
   "metadata": {},
   "source": [
    "#### SPLITTING TILES AND SAVING ANNOTATIONS"
   ]
  },
  {
   "cell_type": "code",
   "execution_count": 1,
   "metadata": {
    "collapsed": true
   },
   "outputs": [],
   "source": [
    "def getAnnotations(xmin, xmax, ymin, ymax, labelpath):\n",
    "    annotations = []\n",
    "    with open(labelpath, 'r') as fp:  \n",
    "        line = fp.readline()\n",
    "        cnt = 1\n",
    "        while line:\n",
    "            clas, xcenter, ycenter, width, height = line.split()\n",
    "            \n",
    "            if((float(xmin) < float(xcenter) < float(xmax)) and (float(ymin) < float(ycenter) < float(ymax))):\n",
    "                newx = (float(xcenter)-float(xmin))/0.2\n",
    "                newy = (float(ycenter)-float(ymin))/0.2\n",
    "                newWidth = float(width)/0.2\n",
    "                newHeight = float(height)/0.2 \n",
    "                newAnnotation = '%s %s %s %s %s'%(clas, newx, newy, newWidth, newHeight)\n",
    "                annotations.append(newAnnotation)\n",
    "            line = fp.readline()\n",
    "            cnt += 1\n",
    "    return annotations"
   ]
  },
  {
   "cell_type": "code",
   "execution_count": 2,
   "metadata": {
    "collapsed": true
   },
   "outputs": [],
   "source": [
    "def cropImg2(imgpath, labelpath, filename):\n",
    "    img = cv2.imread(imgpath) # 4000  ×  2250   600 x 337.5\n",
    "    \n",
    "    img_shape = img.shape\n",
    "    tile_size =  (int(img_shape[1]*0.2), int(img_shape[0]*0.2)) # 800 x 450\n",
    "    offset = (int(img_shape[1]*0.2), int(img_shape[0]*0.2))\n",
    "\n",
    "    for i in range(int(math.ceil(img_shape[0]/(offset[1] * 1.0)))):\n",
    "        for j in range(int(math.ceil(img_shape[1]/(offset[0] * 1.0)))):\n",
    "            xmin = offset[1]*i\n",
    "            xmaks = min(offset[1]*i+tile_size[1], img_shape[0])\n",
    "            ymin = offset[0]*j\n",
    "            ymaks = min(offset[0]*j+tile_size[0], img_shape[1])\n",
    "            \n",
    "            jmin = 0.2*j\n",
    "            jmax = jmin + 0.2\n",
    "            imin = 0.2*i\n",
    "            imax = imin + 0.2 \n",
    "            \n",
    "            annotations = getAnnotations( jmin, jmax, imin, imax, labelpath)\n",
    "            if(len(annotations)!=0):\n",
    "                cropped_img = img[xmin:xmaks, ymin:ymaks]\n",
    "                cv2.imwrite('./Cropped/data/images/%s_tile_%s_%s.jpg'%(filename, str(i), str(j)), cropped_img)\n",
    "                file = open('Cropped/data/annotations/%s_tile_%s_%s.txt'%(filename, str(i), str(j)), 'a+')\n",
    "                for line in annotations:\n",
    "                    file.write(line)\n",
    "                    file.write('\\n')  \n",
    "                file.close()\n",
    "    print('Annotations and Images tiled')\n",
    "           "
   ]
  },
  {
   "cell_type": "code",
   "execution_count": 5,
   "metadata": {},
   "outputs": [
    {
     "name": "stdout",
     "output_type": "stream",
     "text": [
      "Annotations and Images tiled\n"
     ]
    }
   ],
   "source": [
    "cropImg2('./Images/dji_0293.jpg', './Cropped/annotations/dji_0293.txt','dji_0293' )"
   ]
  },
  {
   "cell_type": "code",
   "execution_count": null,
   "metadata": {
    "collapsed": true
   },
   "outputs": [],
   "source": [
    "def splitImagesAndReformatLabels():\n",
    "    dirname = './Images'\n",
    "    dirLabel = './Cropped/annotations'\n",
    "    files = [f[:-4] for f in os.listdir(dirname) if f[-4:].lower() == '.jpg'] # getting a list of all imageNames in folder\n",
    "    \n",
    "    for file in files: \n",
    "        imagepath = '%s/%s.jpg'%(dirname,file) \n",
    "        labelpath = '%s/%s.txt'%(dirname,file)\n",
    "        cropImg2(imagepath, labelpath, file)\n",
    "    "
   ]
  },
  {
   "cell_type": "markdown",
   "metadata": {},
   "source": [
    "### INTERSECTION\n",
    "<img src=\"img/image.png\" style=\"height: 250px; float: left\"/>\n",
    "#### INPUT: \n",
    "rec1: bottom-left(0, 0), top-right(10, 8),\n",
    "\n",
    "rec2: bottom-left(2, 3), top-right(7, 9)\n",
    "#### OUTPUT: \n",
    "(2, 3) (7, 8) (2, 8) (7, 3)\n",
    "\n",
    "https://www.geeksforgeeks.org/intersecting-rectangle-when-bottom-left-and-top-right-corners-of-two-rectangles-are-given/ \n"
   ]
  },
  {
   "cell_type": "code",
   "execution_count": null,
   "metadata": {
    "collapsed": true
   },
   "outputs": [],
   "source": [
    "def FindPoints(x1, y1, x2, y2, x3, y3, x4, y4, imgName): \n",
    "    \n",
    "    # gives bottom-left point \n",
    "    # of intersection rectangle \n",
    "    x5 = max(x1, x3) \n",
    "    y5 = max(y1, y3) \n",
    "  \n",
    "    # gives top-right point \n",
    "    # of intersection rectangle \n",
    "    x6 = min(x2, x4) \n",
    "    y6 = min(y2, y4) \n",
    "  \n",
    "    # no intersection \n",
    "    if (x5 > x6 or y5 > y6) : \n",
    "        #print(\"NO INTERSECTION\")\n",
    "        return\n",
    "        \n",
    "    #New annotation\n",
    "    width = max(x5,x6)-min(x5,x6)\n",
    "    height = max(y5,y6)-min(y5,y6)\n",
    "    x_center = min(x5,x6) + 0.5*width\n",
    "    y_center = min(y5,y6) + 0.5*height\n",
    "    new_annotation = 'Annotation: %s %s %s %s'%(x_center, y_center, width, height)\n",
    "    print(new_annotation)\n",
    "    \n",
    "    "
   ]
  },
  {
   "cell_type": "code",
   "execution_count": null,
   "metadata": {
    "collapsed": true
   },
   "outputs": [],
   "source": []
  }
 ],
 "metadata": {
  "kernelspec": {
   "display_name": "Python (pytorchenv)",
   "language": "python",
   "name": "pytorchenv"
  },
  "language_info": {
   "codemirror_mode": {
    "name": "ipython",
    "version": 3
   },
   "file_extension": ".py",
   "mimetype": "text/x-python",
   "name": "python",
   "nbconvert_exporter": "python",
   "pygments_lexer": "ipython3",
   "version": "3.7.3"
  }
 },
 "nbformat": 4,
 "nbformat_minor": 2
}
