{
 "cells": [
  {
   "cell_type": "code",
   "execution_count": 1,
   "metadata": {},
   "outputs": [
    {
     "name": "stdout",
     "output_type": "stream",
     "text": [
      "The current working directory is /home/nina/network/dataset\n"
     ]
    }
   ],
   "source": [
    "# import the os module\n",
    "import os\n",
    "import shutil\n",
    "import random\n",
    "\n",
    "# detect the current working directory and print it\n",
    "path = os.getcwd()  \n",
    "print (\"The current working directory is %s\" % path)  "
   ]
  },
  {
   "cell_type": "markdown",
   "metadata": {},
   "source": [
    "## CREATING FILESTRUCTURE\n",
    "\n",
    "\n",
    "Foldername\n",
    "<ul>\n",
    "<ul><li>images</li>\n",
    "<ul><li>val</li><li>train</li></ul>\n",
    "<li>labels</li>\n",
    "<ul><li>val</li><li>train</li></ul>\n",
    "</ul>\n",
    "\n",
    "<b>USE</b>: createFilestructure(<i>foldername</i>)"
   ]
  },
  {
   "cell_type": "code",
   "execution_count": 2,
   "metadata": {
    "collapsed": true
   },
   "outputs": [],
   "source": [
    "def createDirectory(path):\n",
    "    try:  \n",
    "        os.mkdir(path)\n",
    "    except OSError:  \n",
    "        print (\"Creation of the directory %s failed\" % path)\n",
    "    else:  \n",
    "        print (\"Successfully created the directory %s \" % path)\n",
    "    \n",
    "            "
   ]
  },
  {
   "cell_type": "code",
   "execution_count": 3,
   "metadata": {
    "collapsed": true
   },
   "outputs": [],
   "source": [
    "def createFilestructure(foldername):\n",
    "    main_dir = [\"images\", \"labels\"] \n",
    "    sub_dir = [\"val\", \"train\"]\n",
    "\n",
    "    for dir1 in main_dir:\n",
    "        for dir2 in sub_dir:\n",
    "            try: os.makedirs(os.path.join(dir1,dir2))\n",
    "            except OSError: pass\n",
    "    imgPath = '%s/images'%(path)\n",
    "    lblPath = '%s/labels'%(path)\n",
    "    newPath = '%s/%s'%(path, foldername)\n",
    "    createDirectory(newPath)\n",
    "\n",
    "    shutil.move(imgPath, newPath) \n",
    "    shutil.move(lblPath, newPath) "
   ]
  },
  {
   "cell_type": "markdown",
   "metadata": {},
   "source": [
    "createFilestructure(\"syntheticData\")"
   ]
  },
  {
   "cell_type": "markdown",
   "metadata": {},
   "source": [
    "### CREATE DATASET\n"
   ]
  },
  {
   "cell_type": "code",
   "execution_count": 10,
   "metadata": {
    "collapsed": true
   },
   "outputs": [],
   "source": [
    "def moveLabelFiles(dir):\n",
    "    print('inside code')\n",
    "    val = [f[:-4] for f in os.listdir('%s/images/val'%dir) if f[-4:].lower() == '.jpg'] \n",
    "    train = [f[:-4] for f in os.listdir('%s/images/train'%dir) if f[-4:].lower() == '.jpg'] \n",
    "    print('TRAIN: %s'%train)\n",
    "    for f in val:\n",
    "        shutil.copy(('%s/annotations/%s.txt'%(dir, f)), ('%s/labels/val'%(dir)))\n",
    "    for i in train:\n",
    "        shutil.copy(('%s/annotations/%s.txt'%(dir, i)), ('%s/labels/train'%(dir)))\n"
   ]
  },
  {
   "cell_type": "markdown",
   "metadata": {},
   "source": [
    "moveLabelFiles(imagedir)"
   ]
  },
  {
   "cell_type": "code",
   "execution_count": 4,
   "metadata": {
    "collapsed": true
   },
   "outputs": [],
   "source": [
    "def moveFiles(imageDir, labelDir, outputDir):\n",
    "    [train, val, test] = splitData(imageDir)\n",
    "    \n",
    "    for f in val:\n",
    "        shutil.copy(('%s/%s.jpg'%(imageDir, f)), ('%s/images/val'%(outputDir)))\n",
    "        shutil.copy(('%s/%s.txt'%(labelDir, f)), ('%s/labels/val'%(outputDir))) \n",
    "    for i in train:\n",
    "        shutil.copy(('%s/%s.jpg'%(imageDir, i)), ('%s/images/train'%(outputDir)))\n",
    "        shutil.copy(('%s/%s.txt'%(labelDir, i)), ('%s/labels/train'%(outputDir))) \n",
    "    for s in test:\n",
    "        shutil.copy(('%s/%s.jpg'%(imageDir, s)), ('%s/testData'%(path)))\n"
   ]
  },
  {
   "cell_type": "code",
   "execution_count": 5,
   "metadata": {
    "collapsed": true
   },
   "outputs": [],
   "source": [
    "def splitData(imageDir):\n",
    "    files = [f[:-4] for f in os.listdir(imageDir) if f[-4:].lower() == '.jpg'] # getting a list of all imageNames in folder\n",
    "    files = [f[:-4] for f in os.listdir(imageDir) if f[-4:].lower() == '.jpg'] # getting a list of all imageNames in folder\n",
    "\n",
    "    # random divide  \n",
    "    trainval = random.sample(files, int(0.9*len(files)))\n",
    "    test = [f for f in files if f not in trainval]\n",
    "\n",
    "    # random divide \n",
    "    train = random.sample(trainval, int(0.9*len(trainval)))\n",
    "    val = [f for f in trainval if f not in train]\n",
    "    return [train, val, test]"
   ]
  },
  {
   "cell_type": "code",
   "execution_count": 7,
   "metadata": {
    "collapsed": true
   },
   "outputs": [],
   "source": [
    "#createFilestructure('editedDataset')\n",
    "\n",
    "imageDir = '%s/edited'%(path)\n",
    "labelDir = '%s/edited/labels'%(path)\n",
    "outputDir = '%s/syntheticData'%(path)\n",
    "#moveFiles(imageDir, labelDir, outputDir)"
   ]
  },
  {
   "cell_type": "code",
   "execution_count": 3,
   "metadata": {
    "collapsed": true
   },
   "outputs": [],
   "source": [
    "outputDir = '%s/custom/data'%(path)\n",
    "#moveFiles(imageDir, labelDir, outputDir)"
   ]
  },
  {
   "cell_type": "code",
   "execution_count": 5,
   "metadata": {
    "collapsed": true
   },
   "outputs": [],
   "source": [
    "def createLocationFile(type, files, foldername):\n",
    "    list_file = open('%sLocations.txt'%(type), 'w')\n",
    "    for f in files:\n",
    "        list_file.write('%s/%s/images/%s/%s.jpg'%(path, foldername, type, f))\n",
    "        #list_file.write('../dataset/editedDataset/images/%s/%s.jpg'%(type, f))\n",
    "        \n",
    "        \n",
    "        #list_file.write('/images/%s/%s.jpg'%(type, f))\n",
    "        list_file.write('\\n')"
   ]
  },
  {
   "cell_type": "code",
   "execution_count": 12,
   "metadata": {
    "collapsed": true
   },
   "outputs": [],
   "source": [
    "syntheticData = 'custom/syntheticData'\n",
    "dronebasedData = 'custom/dronebasedData'\n",
    "combinedData = 'custom/combinedData'\n",
    "combinedTiledData = 'custom/combinedTiledData'\n",
    "\n"
   ]
  },
  {
   "cell_type": "markdown",
   "metadata": {
    "collapsed": true
   },
   "source": [
    "valFiles = [f[:-4] for f in os.listdir('%s/images/val'%(outputDir)) if f[-4:].lower() == '.jpg']\n",
    "trainFiles = [f[:-4] for f in os.listdir('%s/images/train'%(outputDir)) if f[-4:].lower() == '.jpg']"
   ]
  },
  {
   "cell_type": "code",
   "execution_count": 7,
   "metadata": {
    "collapsed": true
   },
   "outputs": [],
   "source": [
    "def getLocationFiles(folder):\n",
    "    valFiles = [f[:-4] for f in os.listdir('%s/%s/images/val'%(path,folder)) if f[-4:].lower() == '.jpg'] \n",
    "    trainFiles = [f[:-4] for f in os.listdir('%s/%s/images/train'%(path,folder)) if f[-4:].lower() == '.jpg']\n",
    "    createLocationFile('val', valFiles, folder)\n",
    "    createLocationFile('train', trainFiles, folder)    \n",
    "    oldPath = '%s'%(path)\n",
    "    newPath = '%s/%s'%(path, folder)\n",
    "\n",
    "    shutil.move('%s/valLocations.txt'%oldPath, newPath) \n",
    "    shutil.move('%s/trainLocations.txt'%oldPath, newPath) \n",
    "    "
   ]
  },
  {
   "cell_type": "markdown",
   "metadata": {},
   "source": [
    "outputDir = '%s/custom/Cropped/dataCombined'%(path)\n",
    "valFiles = [f[:-4] for f in os.listdir('%s/images/val'%(outputDir)) if f[-4:].lower() == '.jpg']\n",
    "trainFiles = [f[:-4] for f in os.listdir('%s/images/train'%(outputDir)) if f[-4:].lower() == '.jpg']"
   ]
  },
  {
   "cell_type": "code",
   "execution_count": 14,
   "metadata": {},
   "outputs": [],
   "source": [
    "getLocationFiles(syntheticData)"
   ]
  },
  {
   "cell_type": "markdown",
   "metadata": {
    "collapsed": true
   },
   "source": [
    "createLocationFile('val', valFiles, 'custom/Cropped/dataCombined')"
   ]
  },
  {
   "cell_type": "markdown",
   "metadata": {},
   "source": [
    "#### COUNT IMAGES\n",
    "\n"
   ]
  },
  {
   "cell_type": "code",
   "execution_count": 11,
   "metadata": {
    "collapsed": true
   },
   "outputs": [],
   "source": [
    "def countImages(imgdir):\n",
    "    valFiles = [f[:-4] for f in os.listdir('%s/val'%(imgdir)) if f[-4:].lower() == '.jpg']\n",
    "    trainFiles = [f[:-4] for f in os.listdir('%s/train'%(imgdir)) if f[-4:].lower() == '.jpg']   \n",
    "    return len(valFiles) + len(trainFiles) "
   ]
  },
  {
   "cell_type": "code",
   "execution_count": 41,
   "metadata": {
    "collapsed": true
   },
   "outputs": [],
   "source": [
    "def file_len(fname):\n",
    "    i=0\n",
    "    with open(fname) as f:\n",
    "        for i, l in enumerate(f):\n",
    "            pass\n",
    "    return i + 1"
   ]
  },
  {
   "cell_type": "code",
   "execution_count": 123,
   "metadata": {
    "collapsed": true
   },
   "outputs": [],
   "source": [
    "def simplecount(filepath):\n",
    "    other = 0\n",
    "    can = 0\n",
    "    plastic = 0\n",
    "    plasticBottle = 0\n",
    "    with open(filepath) as fp:  \n",
    "        line = fp.readline()\n",
    "        \n",
    "        cnt = 1\n",
    "        while line:\n",
    "            clas, xcenter, ycenter, width, height = line.split()\n",
    "            if(clas=='0'):\n",
    "                other = other + 1\n",
    "            elif(clas=='1'):\n",
    "                can = can + 1\n",
    "            elif(clas == '2'):\n",
    "                plastic = plastic + 1\n",
    "            elif(clas == '3'):\n",
    "                plasticBottle += 1\n",
    "            line = fp.readline()\n",
    "    return [other, can, plastic, plasticBottle]\n"
   ]
  },
  {
   "cell_type": "code",
   "execution_count": 43,
   "metadata": {
    "collapsed": true
   },
   "outputs": [],
   "source": [
    "def countLabels(imgdir, type):\n",
    "    files = [f[:-4] for f in os.listdir('%s/%s'%(imgdir, type)) if f[-4:].lower() == '.txt']\n",
    "    labelCount = 0\n",
    "    for f in files:\n",
    "        labelCount = labelCount + file_len('%s/%s/%s.txt'%(imgdir,type, f))   \n",
    "    print(labelCount)\n",
    "    return labelCount"
   ]
  },
  {
   "cell_type": "code",
   "execution_count": 120,
   "metadata": {
    "collapsed": true
   },
   "outputs": [],
   "source": [
    "from operator import add \n",
    "def countLabels2(imgdir, type):\n",
    "    files = [f[:-4] for f in os.listdir('%s/%s'%(imgdir, type)) if f[-4:].lower() == '.txt']\n",
    "    labelCount = [0, 0, 0, 0]\n",
    "    imageCount = [0, 0, 0, 0]\n",
    "    count = 0\n",
    "    for f in files:\n",
    "        count += 1\n",
    "        annotationCount = simplecount('%s/%s/%s.txt'%(imgdir,type, f))\n",
    "        labelCount = list(map(add, labelCount, annotationCount)) \n",
    "        imageValues = [1 if x > 0 else 0 for x in annotationCount] #checks if value is in image\n",
    "        imageCount = list(map(add, imageCount, imageValues)) \n",
    "        #print('after: %s'%(imageCount))\n",
    "\n",
    "    return [labelCount, imageCount]"
   ]
  },
  {
   "cell_type": "code",
   "execution_count": null,
   "metadata": {
    "collapsed": true
   },
   "outputs": [],
   "source": [
    "def annInImage(imageCount, labelcount):\n",
    "    "
   ]
  },
  {
   "cell_type": "code",
   "execution_count": 56,
   "metadata": {},
   "outputs": [
    {
     "name": "stdout",
     "output_type": "stream",
     "text": [
      "o:0, c: 0, p:8, pb: 2\n",
      "[0, 0, 8, 2, 1, 3, 1, 3]\n",
      "['22.txt', '8.txt', '1.txt', '3.txt', '24.txt', '21.txt', '49.txt', '4.txt', '2.txt', '31.txt', '38.txt', '18.txt', '13.txt', '9.txt', '30.txt', '52.txt', '11.txt', '15.txt', '45.txt', '25.txt', '26.txt', '48.txt', '28.txt', '51.txt', '46.txt', '53.txt', '37.txt', '41.txt', '29.txt', '17.txt', '20.txt', '23.txt', '6.txt', '35.txt', '16.txt', '10.txt', '57.txt', '5.txt', '19.txt', '12.txt', '56.txt', '55.txt', '44.txt', '39.txt', '14.txt', '32.txt', '54.txt', '36.txt', '50.txt', '58.txt', '43.txt', '42.txt', '27.txt', '33.txt', '40.txt', '7.txt', '34.txt', '47.txt']\n"
     ]
    }
   ],
   "source": [
    "labelDir = '%s/edited/labels'%(path)\n",
    "files = [f for f in os.listdir(labelDir) if f[-4:].lower() == '.txt'] # getting a list of all imageNames in folder\n",
    "hei = simplecount('%s/%s'%(labelDir, files[1]))\n",
    "print(hei +[1,3,1,3])\n",
    "print(files)"
   ]
  },
  {
   "cell_type": "code",
   "execution_count": 133,
   "metadata": {
    "collapsed": true
   },
   "outputs": [],
   "source": [
    "def getAnnotationCount(labelDir):\n",
    "    print(labelDir)\n",
    "    valCount, imgvalcount = countLabels2(labelDir, 'val') \n",
    "    trainCount, imgtraincount = countLabels2(labelDir, 'train') \n",
    "    totalCount = list(map(add, valCount, trainCount)) \n",
    "    totalimgCount = list(map(add, imgvalcount, imgtraincount)) \n",
    "    print('Images with annotations: %s'%totalimgCount)\n",
    "    print('Total annotations: %s'%totalCount)\n",
    "    print('Annotations: %s' %(sum(totalCount)))\n"
   ]
  },
  {
   "cell_type": "code",
   "execution_count": 134,
   "metadata": {},
   "outputs": [
    {
     "name": "stdout",
     "output_type": "stream",
     "text": [
      "DRONEBASED:\n",
      "/home/nina/network/dataset/custom/data2/labels\n",
      "Images with annotations: [66, 111, 244, 131]\n",
      "Total annotations: [106, 286, 1702, 415]\n",
      "Annotations: 2509\n",
      "SYNTHETIC:\n",
      "/home/nina/network/dataset/editedDataset/labels\n",
      "Images with annotations: [1, 22, 65, 65]\n",
      "Total annotations: [1, 31, 1033, 292]\n",
      "Annotations: 1357\n",
      "COMBINED:\n",
      "/home/nina/network/dataset/custom/data/labels\n",
      "Images with annotations: [67, 125, 289, 176]\n",
      "Total annotations: [107, 305, 2391, 619]\n",
      "Annotations: 3422\n",
      "COMBINED TILED:\n",
      "/home/nina/network/dataset/custom/Cropped/dataCombined/labels\n",
      "Images with annotations: [132, 252, 1573, 555]\n",
      "Total annotations: [143, 351, 2966, 762]\n",
      "Annotations: 4222\n"
     ]
    }
   ],
   "source": [
    "print('DRONEBASED:')\n",
    "droneDir = '%s/custom/data2/labels'%(path)\n",
    "getAnnotationCount(droneDir)\n",
    "\n",
    "print('SYNTHETIC:')\n",
    "syntDir = '%s/editedDataset/labels'%(path)\n",
    "getAnnotationCount(syntDir)\n",
    "\n",
    "print('COMBINED:')\n",
    "combDir = '%s/custom/data/labels'%(path)\n",
    "getAnnotationCount(combDir)\n",
    "\n",
    "print('COMBINED TILED:')\n",
    "labelDir = '%s/custom/Cropped/dataCombined/labels'%(path)\n",
    "getAnnotationCount(labelDir)\n",
    "\n"
   ]
  },
  {
   "cell_type": "code",
   "execution_count": null,
   "metadata": {
    "collapsed": true
   },
   "outputs": [],
   "source": []
  }
 ],
 "metadata": {
  "kernelspec": {
   "display_name": "Python (pytorchenv)",
   "language": "python",
   "name": "pytorchenv"
  },
  "language_info": {
   "codemirror_mode": {
    "name": "ipython",
    "version": 3
   },
   "file_extension": ".py",
   "mimetype": "text/x-python",
   "name": "python",
   "nbconvert_exporter": "python",
   "pygments_lexer": "ipython3",
   "version": "3.7.3"
  }
 },
 "nbformat": 4,
 "nbformat_minor": 2
}
