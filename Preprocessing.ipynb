{
 "cells": [
  {
   "cell_type": "code",
   "execution_count": null,
   "metadata": {},
   "outputs": [],
   "source": [
    "# import the os module\n",
    "import os\n",
    "import shutil\n",
    "import random\n",
    "\n",
    "# detect the current working directory and print it\n",
    "path = os.getcwd()  \n",
    "print (\"The current working directory is %s\" % path)  "
   ]
  },
  {
   "cell_type": "markdown",
   "metadata": {},
   "source": [
    "## CREATE FILESTRUCTURE\n",
    "\n",
    "\n",
    "Foldername\n",
    "<ul>\n",
    "<ul><li>images</li>\n",
    "<ul><li>val</li><li>train</li></ul>\n",
    "<li>labels</li>\n",
    "<ul><li>val</li><li>train</li></ul>\n",
    "</ul>\n",
    "\n",
    "<b>USE</b>: createFilestructure(<i>foldername</i>)"
   ]
  },
  {
   "cell_type": "code",
   "execution_count": null,
   "metadata": {},
   "outputs": [],
   "source": [
    "def createDirectory(path):\n",
    "    try:  \n",
    "        os.mkdir(path)\n",
    "    except OSError:  \n",
    "        print (\"Creation of the directory %s failed\" % path)\n",
    "    else:  \n",
    "        print (\"Successfully created the directory %s \" % path)\n",
    "    \n",
    "            "
   ]
  },
  {
   "cell_type": "code",
   "execution_count": null,
   "metadata": {},
   "outputs": [],
   "source": [
    "def createFilestructure(foldername):\n",
    "    main_dir = [\"images\", \"labels\"] \n",
    "    sub_dir = [\"val\", \"train\"]\n",
    "\n",
    "    for dir1 in main_dir:\n",
    "        for dir2 in sub_dir:\n",
    "            try: os.makedirs(os.path.join(dir1,dir2))\n",
    "            except OSError: pass\n",
    "    imgPath = '%s/images'%(path)\n",
    "    lblPath = '%s/labels'%(path)\n",
    "    newPath = '%s/%s'%(path, foldername)\n",
    "    createDirectory(newPath)\n",
    "\n",
    "    shutil.move(imgPath, newPath) \n",
    "    shutil.move(lblPath, newPath) "
   ]
  },
  {
   "cell_type": "markdown",
   "metadata": {},
   "source": [
    "## CREATE DATASET\n"
   ]
  },
  {
   "cell_type": "code",
   "execution_count": null,
   "metadata": {},
   "outputs": [],
   "source": [
    "def moveLabelFiles(dir):\n",
    "    val = [f[:-4] for f in os.listdir('%s/images/val'%dir) if f[-4:].lower() == '.jpg'] \n",
    "    train = [f[:-4] for f in os.listdir('%s/images/train'%dir) if f[-4:].lower() == '.jpg'] \n",
    "    \n",
    "    for f in val:\n",
    "        shutil.copy(('%s/annotations/%s.txt'%(dir, f)), ('%s/labels/val'%(dir)))\n",
    "    for i in train:\n",
    "        shutil.copy(('%s/annotations/%s.txt'%(dir, i)), ('%s/labels/train'%(dir)))\n"
   ]
  },
  {
   "cell_type": "code",
   "execution_count": null,
   "metadata": {},
   "outputs": [],
   "source": [
    "def moveFiles(imageDir, labelDir, outputDir):\n",
    "    [train, val, test] = splitData(imageDir)\n",
    "    \n",
    "    for f in val:\n",
    "        shutil.copy(('%s/%s.jpg'%(imageDir, f)), ('%s/images/val'%(outputDir)))\n",
    "        shutil.copy(('%s/%s.txt'%(labelDir, f)), ('%s/labels/val'%(outputDir))) \n",
    "    for i in train:\n",
    "        shutil.copy(('%s/%s.jpg'%(imageDir, i)), ('%s/images/train'%(outputDir)))\n",
    "        shutil.copy(('%s/%s.txt'%(labelDir, i)), ('%s/labels/train'%(outputDir))) \n",
    "    for s in test:\n",
    "        shutil.copy(('%s/%s.jpg'%(imageDir, s)), ('%s/testData'%(path)))\n"
   ]
  },
  {
   "cell_type": "code",
   "execution_count": null,
   "metadata": {},
   "outputs": [],
   "source": [
    "def splitData(imageDir):\n",
    "    files = [f[:-4] for f in os.listdir(imageDir) if f[-4:].lower() == '.jpg'] # getting a list of all imageNames in folder\n",
    "    files = [f[:-4] for f in os.listdir(imageDir) if f[-4:].lower() == '.jpg'] # getting a list of all imageNames in folder\n",
    "\n",
    "    # random divide  \n",
    "    trainval = random.sample(files, int(0.9*len(files)))\n",
    "    test = [f for f in files if f not in trainval]\n",
    "\n",
    "    # random divide \n",
    "    train = random.sample(trainval, int(0.9*len(trainval)))\n",
    "    val = [f for f in trainval if f not in train]\n",
    "    return [train, val, test]"
   ]
  },
  {
   "cell_type": "markdown",
   "metadata": {
    "collapsed": true
   },
   "source": [
    "#### USAGE:\n",
    "createFilestructure(datasetName)\n",
    "\n",
    "imageDir = 'path/to/images'\n",
    "\n",
    "labelDir = 'path/to/labels'\n",
    "\n",
    "outputDir = '%s/datasetName'%(path)\n",
    "\n",
    "moveFiles(imageDir, labelDir, outputDir)"
   ]
  },
  {
   "cell_type": "markdown",
   "metadata": {},
   "source": [
    "## CREATE LOCATION FILE\n",
    "<b>createLocationFile</b>: Creates a file with locations for all images in the folder of a type\n",
    "\n",
    "<b>getLocationFiles</b>: Creates two locationFiles for a folder; one for the validation set and one for the training set. Moves the files into the folder "
   ]
  },
  {
   "cell_type": "code",
   "execution_count": null,
   "metadata": {},
   "outputs": [],
   "source": [
    "def createLocationFile(type, files, foldername):\n",
    "    list_file = open('%sLocations.txt'%(type), 'w')\n",
    "    for f in files:\n",
    "        list_file.write('%s/%s/images/%s/%s.jpg'%(path, foldername, type, f))\n",
    "        list_file.write('\\n')"
   ]
  },
  {
   "cell_type": "code",
   "execution_count": null,
   "metadata": {},
   "outputs": [],
   "source": [
    "#Defining locations for datasets \n",
    "syntheticData = 'custom/syntheticData'\n",
    "dronebasedData = 'custom/dronebasedData'\n",
    "combinedData = 'custom/combinedData'\n",
    "combinedTiledData = 'custom/combinedTiledData'\n",
    "\n"
   ]
  },
  {
   "cell_type": "code",
   "execution_count": null,
   "metadata": {},
   "outputs": [],
   "source": [
    "def getLocationFiles(folder):\n",
    "    valFiles = [f[:-4] for f in os.listdir('%s/%s/images/val'%(path,folder)) if f[-4:].lower() == '.jpg'] \n",
    "    trainFiles = [f[:-4] for f in os.listdir('%s/%s/images/train'%(path,folder)) if f[-4:].lower() == '.jpg']\n",
    "    createLocationFile('val', valFiles, folder)\n",
    "    createLocationFile('train', trainFiles, folder)    \n",
    "    oldPath = '%s'%(path)\n",
    "    newPath = '%s/%s'%(path, folder)\n",
    "\n",
    "    shutil.move('%s/valLocations.txt'%oldPath, newPath) \n",
    "    shutil.move('%s/trainLocations.txt'%oldPath, newPath) \n",
    "    "
   ]
  },
  {
   "cell_type": "markdown",
   "metadata": {
    "collapsed": true
   },
   "source": [
    "#### USAGE:\n",
    "getLocationFiles(inputfolder)"
   ]
  },
  {
   "cell_type": "markdown",
   "metadata": {},
   "source": [
    "## COUNT IMAGES\n",
    "<b>countAnnotations</b>: counts annotations in a labelfile \n",
    "\n",
    "<b>countImagesAndLabelsOfType</b>: counts images and labels within a type folder\n",
    "\n",
    "<b>getImagesAndLabelsCount</b>: Returns # of annotations and # images within each class, and the total annotations.  \n"
   ]
  },
  {
   "cell_type": "code",
   "execution_count": null,
   "metadata": {},
   "outputs": [],
   "source": [
    "def countAnnotations(filepath):\n",
    "    other = 0\n",
    "    can = 0\n",
    "    plastic = 0\n",
    "    plasticBottle = 0\n",
    "    with open(filepath) as fp:  \n",
    "        line = fp.readline()\n",
    "        \n",
    "        cnt = 1\n",
    "        while line:\n",
    "            clas, xcenter, ycenter, width, height = line.split()\n",
    "            if(clas=='0'):\n",
    "                other = other + 1\n",
    "            elif(clas=='1'):\n",
    "                can = can + 1\n",
    "            elif(clas == '2'):\n",
    "                plastic = plastic + 1\n",
    "            elif(clas == '3'):\n",
    "                plasticBottle += 1\n",
    "            line = fp.readline()\n",
    "    return [other, can, plastic, plasticBottle]\n"
   ]
  },
  {
   "cell_type": "code",
   "execution_count": null,
   "metadata": {},
   "outputs": [],
   "source": [
    "from operator import add \n",
    "def countImagesAndLabelsOfType(imgdir, type):\n",
    "    files = [f[:-4] for f in os.listdir('%s/%s'%(imgdir, type)) if f[-4:].lower() == '.txt']\n",
    "    labelCount = [0, 0, 0, 0]\n",
    "    imageCount = [0, 0, 0, 0]\n",
    "    count = 0\n",
    "    for f in files:\n",
    "        count += 1\n",
    "        annotationCount = countAnnotations('%s/%s/%s.txt'%(imgdir,type, f))\n",
    "        labelCount = list(map(add, labelCount, annotationCount)) \n",
    "        imageValues = [1 if x > 0 else 0 for x in annotationCount] #checks if value is in image\n",
    "        imageCount = list(map(add, imageCount, imageValues)) \n",
    "\n",
    "    return [labelCount, imageCount]"
   ]
  },
  {
   "cell_type": "code",
   "execution_count": null,
   "metadata": {},
   "outputs": [],
   "source": [
    "def getImagesAndLabelsCount(labelDir):\n",
    "    print(labelDir)\n",
    "    valCount, imgvalcount = countImagesAndLabelsForType(labelDir, 'val') \n",
    "    trainCount, imgtraincount = countImagesAndLabelsForType(labelDir, 'train') \n",
    "    totalCount = list(map(add, valCount, trainCount)) \n",
    "    totalimgCount = list(map(add, imgvalcount, imgtraincount)) \n",
    "    print('Images with annotations: %s'%totalimgCount)\n",
    "    print('Total annotations: %s'%totalCount)\n",
    "    print('Annotations: %s' %(sum(totalCount)))\n"
   ]
  },
  {
   "cell_type": "markdown",
   "metadata": {},
   "source": [
    "#### USAGE\n",
    "\n",
    "print('DRONEBASED:')\n",
    "droneDir = '%s/%s/labels'%(path, dronebasedData)\n",
    "getImagesAndLabelsCount(droneDir)\n",
    "\n",
    "print('SYNTHETIC:')\n",
    "syntDir = '%s/%s/labels'%(path, syntheticData)\n",
    "getImagesAndLabelsCount(syntDir)\n",
    "\n",
    "print('COMBINED:')\n",
    "combDir = '%s/%s/labels'%(path, combinedData)\n",
    "getImagesAndLabelsCount(combDir)\n",
    "\n",
    "print('COMBINED TILED:')\n",
    "combTDir = '%s/%s/labels'%(path, combinedData)\n",
    "getImagesAndLabelsCount(labelDir)\n",
    "\n",
    "syntheticData = 'custom/syntheticData'\n",
    "dronebasedData = 'custom/dronebasedData'\n",
    "combinedData = 'custom/combinedData'\n",
    "combinedTiledData = 'custom/combinedTiledData'\n",
    "\n"
   ]
  },
  {
   "cell_type": "code",
   "execution_count": null,
   "metadata": {},
   "outputs": [],
   "source": []
  }
 ],
 "metadata": {
  "kernelspec": {
   "display_name": ".venv",
   "language": "python",
   "name": ".venv"
  },
  "language_info": {
   "codemirror_mode": {
    "name": "ipython",
    "version": 3
   },
   "file_extension": ".py",
   "mimetype": "text/x-python",
   "name": "python",
   "nbconvert_exporter": "python",
   "pygments_lexer": "ipython3",
   "version": "3.6.8"
  }
 },
 "nbformat": 4,
 "nbformat_minor": 2
}
