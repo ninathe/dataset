{
 "cells": [
  {
   "cell_type": "code",
   "execution_count": 3,
   "metadata": {},
   "outputs": [
    {
     "name": "stdout",
     "output_type": "stream",
     "text": [
      "The current working directory is /home/nina/network/dataset\n"
     ]
    }
   ],
   "source": [
    "# import the os module\n",
    "import os\n",
    "import shutil\n",
    "import random\n",
    "\n",
    "# detect the current working directory and print it\n",
    "path = os.getcwd()  \n",
    "print (\"The current working directory is %s\" % path)  "
   ]
  },
  {
   "cell_type": "markdown",
   "metadata": {},
   "source": [
    "## CREATING FILESTRUCTURE\n",
    "\n",
    "\n",
    "Foldername\n",
    "<ul>\n",
    "<ul><li>images</li>\n",
    "<ul><li>val</li><li>train</li></ul>\n",
    "<li>labels</li>\n",
    "<ul><li>val</li><li>train</li></ul>\n",
    "</ul>\n",
    "\n",
    "<b>USE</b>: createFilestructure(<i>foldername</i>)"
   ]
  },
  {
   "cell_type": "code",
   "execution_count": 4,
   "metadata": {
    "collapsed": true
   },
   "outputs": [],
   "source": [
    "def createDirectory(path):\n",
    "    try:  \n",
    "        os.mkdir(path)\n",
    "    except OSError:  \n",
    "        print (\"Creation of the directory %s failed\" % path)\n",
    "    else:  \n",
    "        print (\"Successfully created the directory %s \" % path)\n",
    "    \n",
    "            "
   ]
  },
  {
   "cell_type": "code",
   "execution_count": 5,
   "metadata": {
    "collapsed": true
   },
   "outputs": [],
   "source": [
    "def createFilestructure(foldername):\n",
    "    main_dir = [\"images\", \"labels\"] \n",
    "    sub_dir = [\"val\", \"train\"]\n",
    "\n",
    "    for dir1 in main_dir:\n",
    "        for dir2 in sub_dir:\n",
    "            try: os.makedirs(os.path.join(dir1,dir2))\n",
    "            except OSError: pass\n",
    "    imgPath = '%s/images'%(path)\n",
    "    lblPath = '%s/labels'%(path)\n",
    "    newPath = '%s/%s'%(path, foldername)\n",
    "    createDirectory(newPath)\n",
    "\n",
    "    shutil.move(imgPath, newPath) \n",
    "    shutil.move(lblPath, newPath) "
   ]
  },
  {
   "cell_type": "markdown",
   "metadata": {},
   "source": [
    "createFilestructure(\"syntheticData\")"
   ]
  },
  {
   "cell_type": "markdown",
   "metadata": {},
   "source": [
    "### CREATE DATASET\n"
   ]
  },
  {
   "cell_type": "code",
   "execution_count": 39,
   "metadata": {
    "collapsed": true
   },
   "outputs": [],
   "source": [
    "def moveFiles(imageDir, labelDir, outputDir):\n",
    "    [train, val, test] = splitData(imageDir)\n",
    "    \n",
    "    for f in val:\n",
    "        shutil.copy(('%s/%s.jpg'%(imageDir, f)), ('%s/images/val'%(outputDir)))\n",
    "        shutil.copy(('%s/%s.txt'%(labelDir, f)), ('%s/labels/val'%(outputDir))) \n",
    "    for i in train:\n",
    "        shutil.copy(('%s/%s.jpg'%(imageDir, i)), ('%s/images/train'%(outputDir)))\n",
    "        shutil.copy(('%s/%s.txt'%(labelDir, i)), ('%s/labels/train'%(outputDir))) \n",
    "    for s in test:\n",
    "        shutil.copy(('%s/%s.jpg'%(imageDir, i)), ('%s/test'%(outputDir)))\n"
   ]
  },
  {
   "cell_type": "code",
   "execution_count": 7,
   "metadata": {
    "collapsed": true
   },
   "outputs": [],
   "source": [
    "def splitData(imageDir):\n",
    "    files = [f[:-4] for f in os.listdir(imageDir) if f[-4:].lower() == '.jpg'] # getting a list of all imageNames in folder\n",
    "\n",
    "    # random divide  \n",
    "    trainval = random.sample(files, int(0.9*len(files)))\n",
    "    test = [f for f in files if f not in trainval]\n",
    "\n",
    "    # random divide \n",
    "    train = random.sample(trainval, int(0.9*len(trainval)))\n",
    "    val = [f for f in trainval if f not in train]\n",
    "    return [train, val, test]"
   ]
  },
  {
   "cell_type": "code",
   "execution_count": 40,
   "metadata": {
    "collapsed": true
   },
   "outputs": [],
   "source": [
    "#createFilestructure('editedDataset')\n",
    "\n",
    "imageDir = '%s/edited'%(path)\n",
    "labelDir = '%s/edited/labels'%(path)\n",
    "outputDir = '%s/syntheticData'%(path)\n",
    "moveFiles(imageDir, labelDir, outputDir)"
   ]
  },
  {
   "cell_type": "code",
   "execution_count": 9,
   "metadata": {
    "collapsed": true
   },
   "outputs": [],
   "source": [
    "def createLocationFile(type, files, foldername):\n",
    "    list_file = open('%sLocations.txt'%(type), 'w')\n",
    "    for f in files:\n",
    "        list_file.write('%s/%s/images/%s/%s.jpg'%(path, foldername, type, f))\n",
    "        #list_file.write('../dataset/editedDataset/images/%s/%s.jpg'%(type, f))\n",
    "        \n",
    "        \n",
    "        #list_file.write('/images/%s/%s.jpg'%(type, f))\n",
    "        list_file.write('\\n')"
   ]
  },
  {
   "cell_type": "code",
   "execution_count": 19,
   "metadata": {},
   "outputs": [],
   "source": [
    "valFiles = [f[:-4] for f in os.listdir('%s/images/val'%(outputDir)) if f[-4:].lower() == '.jpg']\n",
    "trainFiles = [f[:-4] for f in os.listdir('%s/images/train'%(outputDir)) if f[-4:].lower() == '.jpg']"
   ]
  },
  {
   "cell_type": "code",
   "execution_count": 12,
   "metadata": {
    "collapsed": true
   },
   "outputs": [],
   "source": [
    "createLocationFile('train', trainFiles, 'editedDataset')"
   ]
  },
  {
   "cell_type": "code",
   "execution_count": 13,
   "metadata": {},
   "outputs": [
    {
     "ename": "NameError",
     "evalue": "name 'test' is not defined",
     "output_type": "error",
     "traceback": [
      "\u001b[0;31m---------------------------------------------------------------------------\u001b[0m",
      "\u001b[0;31mNameError\u001b[0m                                 Traceback (most recent call last)",
      "\u001b[0;32m<ipython-input-13-4ddfce83ccd5>\u001b[0m in \u001b[0;36m<module>\u001b[0;34m\u001b[0m\n\u001b[0;32m----> 1\u001b[0;31m \u001b[0mprint\u001b[0m\u001b[0;34m(\u001b[0m\u001b[0mtest\u001b[0m\u001b[0;34m)\u001b[0m\u001b[0;34m\u001b[0m\u001b[0;34m\u001b[0m\u001b[0m\n\u001b[0m",
      "\u001b[0;31mNameError\u001b[0m: name 'test' is not defined"
     ]
    }
   ],
   "source": [
    "print(test)"
   ]
  },
  {
   "cell_type": "code",
   "execution_count": 29,
   "metadata": {},
   "outputs": [],
   "source": [
    "imageDir = '%s/edited'%(path)\n",
    "[train, val, test] = splitData(imageDir)"
   ]
  },
  {
   "cell_type": "code",
   "execution_count": 35,
   "metadata": {},
   "outputs": [
    {
     "name": "stdout",
     "output_type": "stream",
     "text": [
      "['50', '44', '30', '45', '37', '39', '24', '31', '11', '26', '19', '29', '46', '41', '9', '28', '27', '14', '3', '8', '48', '23', '33', '2', '52', '1', '47', '32', '4', '36', '42', '49', '5', '20', '34', '40', '7', '15', '35', '43', '16']\n"
     ]
    }
   ],
   "source": [
    "print(train)"
   ]
  },
  {
   "cell_type": "code",
   "execution_count": 36,
   "metadata": {},
   "outputs": [
    {
     "name": "stdout",
     "output_type": "stream",
     "text": [
      "['25', '38', '22', '12', '51']\n"
     ]
    }
   ],
   "source": [
    "print(val)"
   ]
  },
  {
   "cell_type": "code",
   "execution_count": 37,
   "metadata": {},
   "outputs": [
    {
     "name": "stdout",
     "output_type": "stream",
     "text": [
      "['17', '6', '13', '10', '18', '21']\n"
     ]
    }
   ],
   "source": [
    "print(test)"
   ]
  },
  {
   "cell_type": "code",
   "execution_count": null,
   "metadata": {},
   "outputs": [],
   "source": [
    "moveFiles(imageDir, labelDir, outputDir):"
   ]
  },
  {
   "cell_type": "code",
   "execution_count": null,
   "metadata": {
    "collapsed": true
   },
   "outputs": [],
   "source": []
  }
 ],
 "metadata": {
  "kernelspec": {
   "display_name": "Python (pytorchenv)",
   "language": "python",
   "name": "pytorchenv"
  },
  "language_info": {
   "codemirror_mode": {
    "name": "ipython",
    "version": 3
   },
   "file_extension": ".py",
   "mimetype": "text/x-python",
   "name": "python",
   "nbconvert_exporter": "python",
   "pygments_lexer": "ipython3",
   "version": "3.7.3"
  }
 },
 "nbformat": 4,
 "nbformat_minor": 2
}
