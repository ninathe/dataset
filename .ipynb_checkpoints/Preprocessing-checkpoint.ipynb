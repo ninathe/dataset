{
 "cells": [
  {
   "cell_type": "code",
   "execution_count": 5,
   "metadata": {},
   "outputs": [
    {
     "name": "stdout",
     "output_type": "stream",
     "text": [
      "The current working directory is /home/nina/dataset\n"
     ]
    }
   ],
   "source": [
    "# import the os module\n",
    "import os\n",
    "import shutil\n",
    "import random\n",
    "\n",
    "# detect the current working directory and print it\n",
    "path = os.getcwd()  \n",
    "print (\"The current working directory is %s\" % path)  "
   ]
  },
  {
   "cell_type": "markdown",
   "metadata": {},
   "source": [
    "## CREATING FILESTRUCTURE\n",
    "\n",
    "\n",
    "Foldername\n",
    "<ul>\n",
    "<ul><li>images</li>\n",
    "<ul><li>val</li><li>train</li></ul>\n",
    "<li>labels</li>\n",
    "<ul><li>val</li><li>train</li></ul>\n",
    "</ul>\n",
    "\n",
    "<b>USE</b>: createFilestructure(<i>foldername</i>)"
   ]
  },
  {
   "cell_type": "code",
   "execution_count": 2,
   "metadata": {
    "collapsed": true
   },
   "outputs": [],
   "source": [
    "def createDirectory(path):\n",
    "    try:  \n",
    "        os.mkdir(path)\n",
    "    except OSError:  \n",
    "        print (\"Creation of the directory %s failed\" % path)\n",
    "        return false\n",
    "    else:  \n",
    "        print (\"Successfully created the directory %s \" % path)\n",
    "        return true\n",
    "            "
   ]
  },
  {
   "cell_type": "code",
   "execution_count": 28,
   "metadata": {
    "collapsed": true
   },
   "outputs": [],
   "source": [
    "def createFilestructure(foldername):\n",
    "    main_dir = [\"images\", \"labels\"] \n",
    "    sub_dir = [\"val\", \"train\"]\n",
    "\n",
    "    for dir1 in main_dir:\n",
    "        for dir2 in sub_dir:\n",
    "            try: os.makedirs(os.path.join(dir1,dir2))\n",
    "            except OSError: pass\n",
    "    imgPath = '%s/images'%(path)\n",
    "    lblPath = '%s/labels'%(path)\n",
    "    newPath = '%s/%s'%(path, foldername)\n",
    "    createDirectory(newPath)\n",
    "\n",
    "    shutil.move(imgPath, newPath) \n",
    "    shutil.move(lblPath, newPath) "
   ]
  },
  {
   "cell_type": "markdown",
   "metadata": {},
   "source": [
    "createFilestructure(\"dataN\")"
   ]
  },
  {
   "cell_type": "markdown",
   "metadata": {},
   "source": [
    "### CREATE DATASET\n"
   ]
  },
  {
   "cell_type": "code",
   "execution_count": 30,
   "metadata": {
    "collapsed": true
   },
   "outputs": [],
   "source": [
    "def moveFiles(imageDir, labelDir, newFolder):\n",
    "    [train, val, test] = splitData('%s/edited'%(path))\n",
    "    \n",
    "    for f in val:\n",
    "        shutil.copy(('%s/%s.jpg'%(dirImages, f)), ('%s/data2/images/%s'%(wd, type)))\n",
    "        shutil.copy(('%s/%s.txt'%(dirLabels, f)), ('%s/data2/labels/%s'%(wd, type)))     "
   ]
  },
  {
   "cell_type": "code",
   "execution_count": 15,
   "metadata": {
    "collapsed": true
   },
   "outputs": [],
   "source": [
    "def splitData(imageDir):\n",
    "    files = [f[:-4] for f in os.listdir(imageDir) if f[-4:].lower() == '.jpg'] # getting a list of all imageNames in folder\n",
    "\n",
    "    # random divide  \n",
    "    trainval = random.sample(files, int(0.9*len(files)))\n",
    "    test = [f for f in files if f not in trainval]\n",
    "\n",
    "    # random divide \n",
    "    train = random.sample(trainval, int(0.9*len(trainval)))\n",
    "    val = [f for f in trainval if f not in train]\n",
    "    return [train, val, test]"
   ]
  },
  {
   "cell_type": "code",
   "execution_count": 16,
   "metadata": {},
   "outputs": [],
   "source": [
    "[train, val, test] = splitData('%s/edited'%(path))\n"
   ]
  },
  {
   "cell_type": "code",
   "execution_count": null,
   "metadata": {},
   "outputs": [],
   "source": []
  },
  {
   "cell_type": "code",
   "execution_count": null,
   "metadata": {
    "collapsed": true
   },
   "outputs": [],
   "source": []
  }
 ],
 "metadata": {
  "kernelspec": {
   "display_name": "Python (pytorchenv)",
   "language": "python",
   "name": "pytorchenv"
  },
  "language_info": {
   "codemirror_mode": {
    "name": "ipython",
    "version": 3
   },
   "file_extension": ".py",
   "mimetype": "text/x-python",
   "name": "python",
   "nbconvert_exporter": "python",
   "pygments_lexer": "ipython3",
   "version": "3.7.3"
  }
 },
 "nbformat": 4,
 "nbformat_minor": 2
}
